{
 "cells": [
  {
   "cell_type": "markdown",
   "metadata": {},
   "source": [
    "# Project 2"
   ]
  },
  {
   "cell_type": "markdown",
   "metadata": {},
   "source": [
    "# Task 1\n",
    "\n",
    "\n",
    "c) We have the following spaces\n",
    "\n",
    "$$\n",
    "\\tau_n :=  \\{ f \\mid f(x) = \\sum_{k = -n}^n c_k e^{2 {\\pi i k x}}, c_{-n}, c_{-n+1}, ..., c_n \\in \\mathbb{C} \\}\n",
    "$$\n",
    "and\n",
    "$$\n",
    "S_n := \\{ f \\mid f(x) = \\frac{a_0}{2} + \\sum_{k = i}^n a_k\\cos(2 \\pi kx) + b_k \\sin(2 \\pi kx), a_0,a_1...,a_n, b_1,...,b_n \\in \\mathbb{R}\\}\n",
    "$$\n",
    "\n",
    "\n",
    "We want to use the results from __a)__ and __b)__ to find orthonormal bases for these spaces. We want to show by __Eulers identity__ that $\\tau_n = S_n$.\n",
    "\n",
    "For an $f \\in \\tau_n $ we have that\n",
    "\n",
    "$$\n",
    "f(x) = \\sum_{k = -n}^n c_k e^{2\\pi ik x} = \\sum_{k = 1}^n c_{-k} e^{-2 \\pi ikx} + \n",
    "$$\n",
    "\n",
    "\n",
    "## Task 2"
   ]
  }
 ],
 "metadata": {
  "kernelspec": {
   "display_name": "Python 3.9.12 64-bit",
   "language": "python",
   "name": "python3"
  },
  "language_info": {
   "name": "python",
   "version": "3.9.12"
  },
  "orig_nbformat": 4,
  "vscode": {
   "interpreter": {
    "hash": "b0fa6594d8f4cbf19f97940f81e996739fb7646882a419484c72d19e05852a7e"
   }
  }
 },
 "nbformat": 4,
 "nbformat_minor": 2
}
