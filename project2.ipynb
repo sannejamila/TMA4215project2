{
 "cells": [
  {
   "cell_type": "markdown",
   "metadata": {},
   "source": [
    "#Project 2"
   ]
  },
  {
   "cell_type": "markdown",
   "metadata": {},
   "source": [
    "#Task 1\n",
    "\n",
    "c) We have the following spaces\n",
    "\n",
    "$$\n",
    "\\tau_n := span(e^{-2 \\pi in}, ..., e^{2 \\pi in}) = \\{ f \\mid f(x) = \\sum_{k = -n}^n c_k e^{2 {pi i k x}}, c_{-n}, c_{-n+1}, ..., c_n \\in \\mathbb{C} \\}\n",
    "$$\n",
    "and\n",
    "$$\n",
    "S_n := span(\\cos(0 \\cdot),\\cos(2 \\pi \\cdot), ... , \\cos(2 \\ pi n \\cdot),\\sin(2 \\pi \\cdot),\\sin(2 \\pi 2 \\cdot), ... , \\sin(2 \\pi n \\cdot))\n",
    "$$\n",
    "\n",
    "We want to use the results from __a)__ and __b)__ to find orthonormal bases for these spaces. We want to show by __Eulers identity__ that $\\tau_n = S_n$.\n",
    "\n",
    "\n",
    "\n"
   ]
  },
  {
   "cell_type": "markdown",
   "metadata": {},
   "source": [
    "\n",
    "#Task 2\n",
    "\n",
    "#Task 3\n",
    "\n",
    "a) We have the so-called __Dirichlet kernel__ given by\n",
    "$$\n",
    "D_n(x) = \\frac{1}{2n+1}\\sum_{k = -n}^n e^{2 \\pi i kx}\n",
    "$$\n",
    "\n",
    "For $n \\in \\mathbf{N}_0$\n",
    "\n",
    "We want to derive the Fourier coefficients $c_k(D_n)$ and prove that the fundamental interpolant in $V_{2n+1,D_n}$ exists."
   ]
  }
 ],
 "metadata": {
  "language_info": {
   "name": "python"
  },
  "orig_nbformat": 4
 },
 "nbformat": 4,
 "nbformat_minor": 2
}
