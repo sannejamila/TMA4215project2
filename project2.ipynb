{
 "cells": [
  {
   "cell_type": "markdown",
   "metadata": {},
   "source": [
    "#Project 2"
   ]
  },
  {
   "cell_type": "markdown",
   "metadata": {},
   "source": [
    "#Task 3\n",
    "\n",
    "a) We have the so-called __Dirichlet kernel__ given by\n",
    "$$\n",
    "D_n(x) = \\frac{1}{2n+1}\\sum_{k = -n}^n e^{2 \\pi i kx}\n",
    "$$\n",
    "\n",
    "For $n \\in \\matbf{N}_0$"
   ]
  }
 ],
 "metadata": {
  "language_info": {
   "name": "python"
  },
  "orig_nbformat": 4
 },
 "nbformat": 4,
 "nbformat_minor": 2
}
