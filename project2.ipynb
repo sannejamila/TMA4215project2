{
 "cells": [
  {
   "cell_type": "markdown",
   "metadata": {},
   "source": [
    "# Project 2"
   ]
  },
  {
   "cell_type": "markdown",
   "metadata": {},
   "source": [
    "## Task 2"
   ]
  },
  {
   "cell_type": "markdown",
   "metadata": {},
   "source": [
    "\n",
    "### b)\n",
    "We want to prove that for any $k$ it holds\n",
    "$$c_{k}(\\tau_{N}f)=e^{-2\\pi ik/N}c_k(f)$$\n",
    "Where $\\tau_{N}(f)=f(\\cdot- \\frac{1}{N})$\n",
    "$$c_{k}(\\tau_{N}(f))= \\frac{1}{N}\\sum\\limits_{j=0}^{N-1}f\\left(x_{j}- \\frac{1}{N}\\right)e^{-2\\pi ijk/N}$$\n",
    "$$=\\frac{1}{N}\\sum\\limits_{j=0}^{N-1}f\\left(\\frac{j}{N}- \\frac{1}{N}\\right)e^{-2\\pi ijk/N}$$\n",
    "$$\\begin{align*}\n",
    "&=\\frac{1}{N}\\sum\\limits_{j=0}^{N-1}f_{j-1}e^{-2\\pi ijk/N}\\\\\n",
    "&= \\frac{1}{N}\\left(f_{-1}+\\sum\\limits_{j=0}^{N-2}f_{j}e^{-2\\pi i(j+1)k/N}\\right)\\\\\n",
    "\\end{align*}$$\n",
    "Since by periodicity $f_{-1}=f_{N-1}$ and $e^{-2\\pi iNk/N}=1$ ($k\\in\\mathbb{Z}$), we can put this back in the sum:\n",
    "$$c_{k}(\\tau_{N} f)=\\frac{1}{N}\\sum\\limits_{j=0}^{N-1}f_{j}e^{-2\\pi i(j+1)k/N}$$\n",
    "$$=e^{-2\\pi ik/N}\\frac{1}{N}\\sum\\limits_{j=0}^{N-1}f_{j}e^{-2\\pi ijk/N}$$\n",
    "$$c_{k}(\\tau_{N}f)=e^{-2\\pi ik/N}c_{k}(f)\\qquad\\square$$\n"
   ]
  },
  {
   "cell_type": "markdown",
   "metadata": {},
   "source": [
    "## c)\n",
    "Given that $g\\in V_{N,f}$, show that\n",
    "$$\\tau_{{N}} g\\in V_{N,f}$$\n",
    "Which means that there exists $b_{0},\\dots, b_{N-1}\\in\\mathbb{R}$ such that\n",
    "$$\\tau_{N}g=g\\left(x- \\frac{1}{N}\\right)=\\sum\\limits_{j=0}^{N-1}b_{j}f\\left(x- \\frac{j}{N}\\right)$$\n",
    "We know that there exists $a_0,\\dots,a_{N-1}\\in\\mathbb R$ such that\n",
    "$$g(x)=\\sum\\limits_{j=0}^{N-1}a_{j}f\\left(x- \\frac{j}{N}\\right)$$\n",
    "It follows that\n",
    "$$g\\left(x- \\frac{1}{N}\\right)=\\sum\\limits_{j=0}^{N-1}a_{j}f\\left(x- \\frac{j+1}{N}\\right)$$\n",
    "Shifting the limits\n",
    "$$=\\sum\\limits_{j=1}^{N}a_{j-1}f\\left(x- \\frac{j}{N}\\right)$$\n",
    "Adding and subtracting both when $j=0$ and $j=N$ to get the right limits\n",
    "$$=a_{N-1}f\\left(x- \\frac{N}{N}\\right)- a_{-1}f\\left(x- \\frac{0}{N}\\right)+ \\sum\\limits_{j=0}^{N-1}a_{j-1}f\\left(x- \\frac{j}{N}\\right)$$\n",
    "Which simplifies due to periodicity to\n",
    "$$\\tau_{N}g=\\sum\\limits_{j=0}^{N-1}b_{j}f\\left(x- \\frac{j}{N}\\right)\\in{V_{N,f}}$$\n",
    "And the coefficients simply are\n",
    "$$b_{j}=a_{j-1}\\qquad\\text{for }j=0,\\dots,N-1$$"
   ]
  },
  {
   "cell_type": "markdown",
   "metadata": {},
   "source": [
    "## Task 3\n",
    "\n",
    "a) We have the so-called __Dirichlet kernel__ given by\n",
    "$$\n",
    "D_n(x) = \\frac{1}{2n+1}\\sum_{k = -n}^n e^{2 \\pi i kx}\n",
    "$$\n",
    "\n",
    "For $n \\in \\mathbf{N}_0$"
   ]
  },
  {
   "cell_type": "markdown",
   "metadata": {},
   "source": []
  }
 ],
 "metadata": {
  "language_info": {
   "name": "python"
  },
  "orig_nbformat": 4
 },
 "nbformat": 4,
 "nbformat_minor": 2
}
