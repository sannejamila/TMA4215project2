{
 "cells": [
  {
   "cell_type": "markdown",
   "metadata": {},
   "source": [
    "# Project 2"
   ]
  },
  {
   "cell_type": "markdown",
   "metadata": {},
   "source": [
    "## Task 2"
   ]
  },
  {
   "cell_type": "markdown",
   "metadata": {},
   "source": [
    "\n",
    "### b)\n",
    "We want to prove that for any $k$ it holds\n",
    "$$c_{k}(\\tau_{N}f)=e^{-2\\pi ik/N}c_k(f)$$\n",
    "Where $\\tau_{N}(f)=f(\\cdot- \\frac{1}{N})$\n",
    "$$c_{k}(\\tau_{N}(f))= \\frac{1}{N}\\sum\\limits_{j=0}^{N-1}f\\left(x_{j}- \\frac{1}{N}\\right)e^{-2\\pi ijk/N}$$\n",
    "$$=\\frac{1}{N}\\sum\\limits_{j=0}^{N-1}f\\left(\\frac{j}{N}- \\frac{1}{N}\\right)e^{-2\\pi ijk/N}$$\n",
    "$$\\begin{align*}\n",
    "&=\\frac{1}{N}\\sum\\limits_{j=0}^{N-1}f_{j-1}e^{-2\\pi ijk/N}\\\\\n",
    "&= \\frac{1}{N}\\left(f_{-1}+\\sum\\limits_{j=0}^{N-2}f_{j}e^{-2\\pi i(j+1)k/N}\\right)\\\\\n",
    "\\end{align*}$$\n",
    "Since by periodicity $f_{-1}=f_{N-1}$ and $e^{-2\\pi iNk/N}=1$ ($k\\in\\mathbb{Z}$), we can put this back in the sum:\n",
    "$$c_{k}(\\tau_{N} f)=\\frac{1}{N}\\sum\\limits_{j=0}^{N-1}f_{j}e^{-2\\pi i(j+1)k/N}$$\n",
    "$$=e^{-2\\pi ik/N}\\frac{1}{N}\\sum\\limits_{j=0}^{N-1}f_{j}e^{-2\\pi ijk/N}$$\n",
    "$$c_{k}(\\tau_{N}f)=e^{-2\\pi ik/N}c_{k}(f)\\qquad\\square$$\n"
   ]
  },
  {
   "cell_type": "markdown",
   "metadata": {},
   "source": [
    "## Task 3\n",
    "\n",
    "a) We have the so-called __Dirichlet kernel__ given by\n",
    "$$\n",
    "D_n(x) = \\frac{1}{2n+1}\\sum_{k = -n}^n e^{2 \\pi i kx}\n",
    "$$\n",
    "\n",
    "For $n \\in \\mathbf{N}_0$"
   ]
  },
  {
   "cell_type": "markdown",
   "metadata": {},
   "source": []
  }
 ],
 "metadata": {
  "language_info": {
   "name": "python"
  },
  "orig_nbformat": 4
 },
 "nbformat": 4,
 "nbformat_minor": 2
}
